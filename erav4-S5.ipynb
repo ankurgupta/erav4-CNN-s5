from __future__ import print_function
import torch
import torch.nn as nn
import torch.nn.functional as F
import torch.optim as optim
from torchvision import datasets, transforms
from torchsummary import summary
from tqdm import tqdm


class MNIST(nn.Module):
    """
    A compact Convolutional Neural Network (CNN) for MNIST classification.
    Designed to stay under ~25k parameters while achieving >95% accuracy.
    Uses BatchNorm + Dropout for regularization and GAP for reducing FC params.
    """

    def __init__(self):
        super(MNIST, self).__init__()
        
        # Input: 1x28x28 (grayscale MNIST images)
        self.conv1 = nn.Conv2d(1, 16, 3, padding=0)     # -> (16, 26, 26)
        self.conv2 = nn.Conv2d(16, 32, 3, padding=0)    # -> (32, 24, 24)
        self.conv3 = nn.Conv2d(32, 10, 1, padding=0)    # -> (10, 24, 24)
        self.conv4 = nn.Conv2d(10, 16, 3, padding=0)    # -> (16, 22, 22)
        self.conv5 = nn.Conv2d(16, 16, 3, padding=0)    # -> (16, 20, 20)
        self.conv6 = nn.Conv2d(16, 16, 3, padding=0)    # -> (16, 18, 18)

        # Max Pooling halves spatial dimensions
        self.pool = nn.MaxPool2d(2, 2)                  # -> (10, 12, 12) after conv3+pool

        # Global Average Pooling (reduces to (batch, channels, 1, 1))
        self.gap = nn.AdaptiveAvgPool2d(1)

        # BatchNorm for stable training
        self.bn1 = nn.BatchNorm2d(16)
        self.bn2 = nn.BatchNorm2d(32)
        self.bn4 = nn.BatchNorm2d(16)
        self.bn5 = nn.BatchNorm2d(16)
        self.bn6 = nn.BatchNorm2d(16)
        
        # Dropout for regularization
        self.dropout = nn.Dropout(0.1)

        # Fully connected layer (after GAP, input = 16 channels)
        self.fc = nn.Linear(16, 10)  # -> 10 classes (digits 0–9)

    def forward(self, x):
        """
        Forward pass through the CNN.
        Input: x (batch, 1, 28, 28)
        Output: log-probabilities (batch, 10)
        """
        x = self.dropout(self.bn1(F.relu(self.conv1(x))))
        x = self.dropout(self.bn2(F.relu(self.conv2(x))))
        x = self.pool(self.conv3(x))  # note: pool after conv3
        x = self.dropout(self.bn4(F.relu(self.conv4(x))))
        x = self.dropout(self.bn5(F.relu(self.conv5(x))))
        x = self.dropout(self.bn6(F.relu(self.conv6(x))))
        
        # GAP reduces HxW → 1x1
        x = self.gap(x)   # -> (batch, 16, 1, 1)
        x = x.view(x.size(0), -1)  # flatten -> (batch, 16)
        
        # Fully connected classifier
        x = self.fc(x)
        
        return F.log_softmax(x, dim=1)


def train(model, device, train_loader, optimizer, epoch):
    """
    Train for one epoch on the training set.
    """
    model.train()
    train_loss = 0
    correct = 0
    pbar = tqdm(train_loader, desc=f"Epoch {epoch} [Training]")
    
    for batch_idx, (data, target) in enumerate(pbar):
        data, target = data.to(device), target.to(device)
        optimizer.zero_grad()

        output = model(data)
        loss = F.nll_loss(output, target)
        loss.backward()
        optimizer.step()

        train_loss += loss.item()
        pred = output.argmax(dim=1, keepdim=True)  # prediction
        correct += pred.eq(target.view_as(pred)).sum().item()

        # live progress bar update
        pbar.set_postfix(loss=loss.item(), accuracy=100. * correct / ((batch_idx+1) * train_loader.batch_size))

    train_loss /= len(train_loader)
    train_acc = 100. * correct / len(train_loader.dataset)

    print(f'\nTraining Epoch {epoch}: Avg loss: {train_loss:.4f}, Accuracy: {correct}/{len(train_loader.dataset)} ({train_acc:.2f}%)')

    return train_acc


def test(model, device, test_loader, epoch):
    """
    Evaluate the model on the test dataset.
    """
    model.eval()
    test_loss = 0
    correct = 0
    
    with torch.no_grad():
        for data, target in test_loader:
            data, target = data.to(device), target.to(device)
            output = model(data)
            test_loss += F.nll_loss(output, target, reduction='sum').item()
            pred = output.argmax(dim=1, keepdim=True)
            correct += pred.eq(target.view_as(pred)).sum().item()

    test_loss /= len(test_loader.dataset)
    test_acc = 100. * correct / len(test_loader.dataset)

    print(f'Testing Epoch {epoch}: Avg loss: {test_loss:.4f}, Accuracy: {correct}/{len(test_loader.dataset)} ({test_acc:.2f}%)\n')

    return test_acc


def model_train_test():
    """
    Complete pipeline:
    - Initializes model
    - Loads MNIST dataset
    - Trains and evaluates for multiple epochs
    """
    use_cuda = torch.cuda.is_available()
    print(f"\nGPU available: {use_cuda}")

    device = torch.device("cuda" if use_cuda else "cpu")

    model = MNIST().to(device)
    optimizer = optim.SGD(model.parameters(), lr=0.015, momentum=0.9)

    print(f'\nModel Summary:')
    summary(model, input_size=(1, 28, 28))

    torch.manual_seed(1)
    batch_size = 128

    # Data normalization: mean=0.1307, std=0.3081 (standard for MNIST)
    train_transform = transforms.Compose([
        transforms.ToTensor(),
        transforms.Normalize((0.1307,), (0.3081,))
    ])

    kwargs = {'num_workers': 4, 'pin_memory': True} if use_cuda else {}
    train_loader = torch.utils.data.DataLoader(
        datasets.MNIST('./data', train=True, download=True, transform=train_transform),
        batch_size=batch_size, shuffle=True, **kwargs
    )
    test_loader = torch.utils.data.DataLoader(
        datasets.MNIST('./data', train=False, transform=train_transform),
        batch_size=batch_size, shuffle=False, **kwargs
    )

    train_acc_lst, test_acc_lst = [], []

    # Train for 20 epochs
    for epoch in range(1, 21):
        train_acc = train(model, device, train_loader, optimizer, epoch)
        test_acc = test(model, device, test_loader, epoch)
        train_acc_lst.append(train_acc)
        test_acc_lst.append(test_acc)

    # Final report
    print("="*50)
    print("Training complete!")
    print(f"Best Training Accuracy: {max(train_acc_lst):.2f}%")
    print(f"Best Testing Accuracy: {max(test_acc_lst):.2f}%")
    print("="*50)

    return {
        'train_accuracy': max(train_acc_lst),
        'test_accuracy': max(test_acc_lst)
    }


if __name__ == '__main__':
    model_train_test()
